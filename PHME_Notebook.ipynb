{
  "nbformat": 4,
  "nbformat_minor": 0,
  "metadata": {
    "kernelspec": {
      "display_name": "Python 3",
      "language": "python",
      "name": "python3"
    },
    "language_info": {
      "codemirror_mode": {
        "name": "ipython",
        "version": 3
      },
      "file_extension": ".py",
      "mimetype": "text/x-python",
      "name": "python",
      "nbconvert_exporter": "python",
      "pygments_lexer": "ipython3",
      "version": "3.7.1"
    },
    "colab": {
      "name": "PHME Notebook.ipynb",
      "provenance": [],
      "collapsed_sections": []
    },
    "accelerator": "GPU"
  },
  "cells": [
    {
      "cell_type": "markdown",
      "metadata": {
        "id": "-OAn6cyB07Z4"
      },
      "source": [
        "# Domain adaptation for fault diagnosis: A CWRU toy example\n",
        "This is a toy DA example for the CWRU dataset. You can check [this paper](https://arxiv.org/pdf/1905.06004) for more details.\n",
        "\n",
        "Qin Wang @ ETH Zurich \n",
        "\n",
        "This notebook was used as part of my tutorial session for the European conference of the prognosticas and health management society (PHME21). \n"
      ]
    },
    {
      "cell_type": "markdown",
      "metadata": {
        "id": "2Ecw4OBqPI40"
      },
      "source": [
        "\n",
        "Please cite our work if you find this notebook useful:\n",
        "\n",
        "```latex\n",
        "@inproceedings{wang2019domain,\n",
        "  title={Domain adaptive transfer learning for fault diagnosis},\n",
        "  author={Wang, Qin and Michau, Gabriel and Fink, Olga},\n",
        "  booktitle={2019 Prognostics and System Health Management Conference (PHM-Paris)},\n",
        "  pages={279--285},\n",
        "  year={2019},\n",
        "  organization={IEEE}\n",
        "}\n",
        "@article{wang2020missing,\n",
        "  title={Missing-class-robust domain adaptation by unilateral alignment},\n",
        "  author={Wang, Qin and Michau, Gabriel and Fink, Olga},\n",
        "  journal={IEEE Transactions on Industrial Electronics},\n",
        "  volume={68},\n",
        "  number={1},\n",
        "  pages={663--671},\n",
        "  year={2020},\n",
        "  publisher={IEEE}\n",
        "}\n",
        "```"
      ]
    },
    {
      "cell_type": "markdown",
      "metadata": {
        "id": "72x4b8kw07aF"
      },
      "source": [
        "## Load Dependencies"
      ]
    },
    {
      "cell_type": "code",
      "metadata": {
        "id": "f4BSLUulZs2S"
      },
      "source": [
        "import numpy as np\n",
        "import matplotlib.pyplot as plt\n",
        "from tensorflow import keras\n",
        "import tensorflow as tf\n",
        "from tensorflow.keras.layers import Input, Dense, Activation, BatchNormalization, Dropout, Conv1D, Flatten, ReLU\n",
        "from tensorflow.keras.models import Model\n",
        "from tensorflow.keras.optimizers import Adam, SGD\n",
        "import tensorflow.keras.backend as K"
      ],
      "execution_count": null,
      "outputs": []
    },
    {
      "cell_type": "markdown",
      "metadata": {
        "id": "eClwzpurALb4"
      },
      "source": [
        "\n",
        "## Download the data\n"
      ]
    },
    {
      "cell_type": "code",
      "metadata": {
        "id": "Ri76VlCcALzZ",
        "colab": {
          "base_uri": "https://localhost:8080/"
        },
        "outputId": "9639e31f-36aa-4f42-8180-4e2b11c95c2d"
      },
      "source": [
        "!wget https://qin.ee/bearings/X.npy\n",
        "!wget https://qin.ee/bearings/X-test.npy\n",
        "!wget https://qin.ee/bearings/y.npy\n",
        "!wget https://qin.ee/bearings/y-test.npy"
      ],
      "execution_count": null,
      "outputs": [
        {
          "output_type": "stream",
          "text": [
            "--2021-06-30 09:45:24--  https://qin.ee/bearings/X.npy\n",
            "Resolving qin.ee (qin.ee)... 35.177.27.26\n",
            "Connecting to qin.ee (qin.ee)|35.177.27.26|:443... connected.\n",
            "HTTP request sent, awaiting response... 200 OK\n",
            "Length: 8192128 (7.8M) [application/octet-stream]\n",
            "Saving to: ‘X.npy’\n",
            "\n",
            "X.npy               100%[===================>]   7.81M  6.53MB/s    in 1.2s    \n",
            "\n",
            "2021-06-30 09:45:26 (6.53 MB/s) - ‘X.npy’ saved [8192128/8192128]\n",
            "\n",
            "--2021-06-30 09:45:26--  https://qin.ee/bearings/X-test.npy\n",
            "Resolving qin.ee (qin.ee)... 35.177.27.26\n",
            "Connecting to qin.ee (qin.ee)|35.177.27.26|:443... connected.\n",
            "HTTP request sent, awaiting response... 200 OK\n",
            "Length: 8192128 (7.8M) [application/octet-stream]\n",
            "Saving to: ‘X-test.npy’\n",
            "\n",
            "X-test.npy          100%[===================>]   7.81M  6.48MB/s    in 1.2s    \n",
            "\n",
            "2021-06-30 09:45:28 (6.48 MB/s) - ‘X-test.npy’ saved [8192128/8192128]\n",
            "\n",
            "--2021-06-30 09:45:29--  https://qin.ee/bearings/y.npy\n",
            "Resolving qin.ee (qin.ee)... 35.177.27.26\n",
            "Connecting to qin.ee (qin.ee)|35.177.27.26|:443... connected.\n",
            "HTTP request sent, awaiting response... 200 OK\n",
            "Length: 16128 (16K) [application/octet-stream]\n",
            "Saving to: ‘y.npy’\n",
            "\n",
            "y.npy               100%[===================>]  15.75K  --.-KB/s    in 0.1s    \n",
            "\n",
            "2021-06-30 09:45:29 (123 KB/s) - ‘y.npy’ saved [16128/16128]\n",
            "\n",
            "--2021-06-30 09:45:29--  https://qin.ee/bearings/y-test.npy\n",
            "Resolving qin.ee (qin.ee)... 35.177.27.26\n",
            "Connecting to qin.ee (qin.ee)|35.177.27.26|:443... connected.\n",
            "HTTP request sent, awaiting response... 200 OK\n",
            "Length: 16128 (16K) [application/octet-stream]\n",
            "Saving to: ‘y-test.npy’\n",
            "\n",
            "y-test.npy          100%[===================>]  15.75K  --.-KB/s    in 0.1s    \n",
            "\n",
            "2021-06-30 09:45:30 (122 KB/s) - ‘y-test.npy’ saved [16128/16128]\n",
            "\n"
          ],
          "name": "stdout"
        }
      ]
    },
    {
      "cell_type": "markdown",
      "metadata": {
        "id": "FoTAnTGc07ae"
      },
      "source": [
        "## Data Loading \n",
        "Load source and target data \n",
        "+  We have preprocessed the data for you, they are FFT preprocessed vibration data.\n",
        "+  Source is recorded under load 3 \n",
        "+  Target is recorded under load 1\n",
        "+  Each contains 10 classes, out of which 9 are different faults"
      ]
    },
    {
      "cell_type": "code",
      "metadata": {
        "id": "CJHm7H6G07af",
        "colab": {
          "base_uri": "https://localhost:8080/"
        },
        "outputId": "a49b8edc-8bdc-4e49-e42a-0cfb10525abc"
      },
      "source": [
        "data_src = np.load(\"X.npy\")[::10] #10% subset for faster try during the tutorial\n",
        "label_src = np.load(\"y.npy\")[::10]\n",
        "data_tgt = np.load(\"X-test.npy\")[::10]\n",
        "label_tgt = np.load(\"y-test.npy\")[::10]\n",
        "print(\"Source dimension\", data_src.shape, label_src.shape)\n",
        "print(\"Target dimension\", data_tgt.shape, label_tgt.shape)\n"
      ],
      "execution_count": null,
      "outputs": [
        {
          "output_type": "stream",
          "text": [
            "Source dimension (200, 1024) (200,)\n",
            "Target dimension (200, 1024) (200,)\n"
          ],
          "name": "stdout"
        }
      ]
    },
    {
      "cell_type": "markdown",
      "metadata": {
        "id": "fuz_Ec09ErU-"
      },
      "source": [
        "Get the data FFT transformed\n"
      ]
    },
    {
      "cell_type": "code",
      "metadata": {
        "id": "kIa15558FC5N",
        "colab": {
          "base_uri": "https://localhost:8080/"
        },
        "outputId": "d6b147c1-2273-4705-8a8c-eeebd91c2ac5"
      },
      "source": [
        "fft = lambda sig: abs(np.fft.fft(sig)[:len(sig)//2])\n",
        "data_src_fft = np.array([fft(sig) for sig in data_src])\n",
        "data_tgt_fft = np.array([fft(sig) for sig in data_tgt])\n",
        "print(\"Source dimension\", data_src_fft.shape, label_src.shape)\n",
        "print(\"Target dimension\", data_tgt_fft.shape, label_tgt.shape)"
      ],
      "execution_count": null,
      "outputs": [
        {
          "output_type": "stream",
          "text": [
            "Source dimension (200, 512) (200,)\n",
            "Target dimension (200, 512) (200,)\n"
          ],
          "name": "stdout"
        }
      ]
    },
    {
      "cell_type": "code",
      "metadata": {
        "id": "PxiY0kYiHqWi",
        "colab": {
          "base_uri": "https://localhost:8080/"
        },
        "outputId": "b316ee88-62d6-4efe-a649-b5edc42beef5"
      },
      "source": [
        "### Expand the last dimension for ease of feeding conv1d\n",
        "data_src = np.expand_dims(data_src, axis=-1)\n",
        "data_src_fft = np.expand_dims(data_src_fft, axis=-1)\n",
        "data_tgt = np.expand_dims(data_tgt, axis=-1)\n",
        "data_tgt_fft = np.expand_dims(data_tgt_fft, axis=-1)\n",
        "print(\"Source dimension\", data_src_fft.shape, data_src.shape)\n",
        "print(\"Target dimension\", data_tgt_fft.shape, data_tgt.shape)"
      ],
      "execution_count": null,
      "outputs": [
        {
          "output_type": "stream",
          "text": [
            "Source dimension (200, 512, 1) (200, 1024, 1)\n",
            "Target dimension (200, 512, 1) (200, 1024, 1)\n"
          ],
          "name": "stdout"
        }
      ]
    },
    {
      "cell_type": "markdown",
      "metadata": {
        "id": "KuLfJ0yd07ak"
      },
      "source": [
        "### Let's check the data first \n",
        "First let's visualize some samples from source. "
      ]
    },
    {
      "cell_type": "code",
      "metadata": {
        "id": "MApvu3fH07ak",
        "colab": {
          "base_uri": "https://localhost:8080/",
          "height": 282
        },
        "outputId": "68a19ce0-0c34-4089-d314-7f633eff1a79"
      },
      "source": [
        "# Have a taste of data, the given target data is in order..\n",
        "for i in range(10):\n",
        "    plt.plot(data_tgt[20*i], label=\"class: \" + str(i))\n",
        "    assert(label_tgt[20*i] == i)\n",
        "plt.legend()"
      ],
      "execution_count": null,
      "outputs": [
        {
          "output_type": "execute_result",
          "data": {
            "text/plain": [
              "<matplotlib.legend.Legend at 0x7fe0addd2a50>"
            ]
          },
          "metadata": {
            "tags": []
          },
          "execution_count": 6
        },
        {
          "output_type": "display_data",
          "data": {
            "image/png": "[encoded data removed]",
            "text/plain": [
              "<Figure size 432x288 with 1 Axes>"
            ]
          },
          "metadata": {
            "tags": [],
            "needs_background": "light"
          }
        }
      ]
    },
    {
      "cell_type": "markdown",
      "metadata": {
        "id": "fKVmiL7dEHyb"
      },
      "source": [
        "Then visulize the FFT-ed target signals."
      ]
    },
    {
      "cell_type": "code",
      "metadata": {
        "id": "n-O3pWlqEF0w",
        "colab": {
          "base_uri": "https://localhost:8080/",
          "height": 282
        },
        "outputId": "9542be39-193c-471d-c78f-f916383b159a"
      },
      "source": [
        "for i in range(10):\n",
        "    plt.plot(data_tgt_fft[20*i], label=\"class: \" + str(i))\n",
        "    assert(label_tgt[20*i] == i)\n",
        "plt.legend()"
      ],
      "execution_count": null,
      "outputs": [
        {
          "output_type": "execute_result",
          "data": {
            "text/plain": [
              "<matplotlib.legend.Legend at 0x7fe0f11eebd0>"
            ]
          },
          "metadata": {
            "tags": []
          },
          "execution_count": 7
        },
        {
          "output_type": "display_data",
          "data": {
            "image/png": "[encoded data removed]",
            "text/plain": [
              "<Figure size 432x288 with 1 Axes>"
            ]
          },
          "metadata": {
            "tags": [],
            "needs_background": "light"
          }
        }
      ]
    },
    {
      "cell_type": "markdown",
      "metadata": {
        "id": "ldhRID0W07ar"
      },
      "source": [
        "## **Example** A source-only baseline model is provided.\n",
        "\n"
      ]
    },
    {
      "cell_type": "code",
      "metadata": {
        "id": "c2Aern4M07as",
        "colab": {
          "base_uri": "https://localhost:8080/"
        },
        "outputId": "29605fd9-e42d-4b62-b24b-a231ee718921"
      },
      "source": [
        "def feature_extractor(x):\n",
        "    h = Conv1D(10, 3, padding='same', activation=\"relu\")(x)\n",
        "    h = Dropout(0.5)(h)\n",
        "    h = Conv1D(10, 3, padding='same', activation=\"relu\")(h)\n",
        "    h = Dropout(0.5)(h)\n",
        "    h = Conv1D(10, 3, padding='same', activation=\"relu\")(h)\n",
        "    h = Dropout(0.5)(h)\n",
        "    h = Flatten()(h)\n",
        "    h = Dense(256, activation='relu')(h)\n",
        "    return h\n",
        "    \n",
        "def clf(x):    \n",
        "    h = Dense(256, activation='relu')(x)\n",
        "    h = Dense(10, activation='softmax', name=\"clf\")(h)\n",
        "    return h\n",
        "\n",
        "def baseline():\n",
        "    input_dim = 512    \n",
        "    inputs = Input(shape=(input_dim, 1))\n",
        "    features = feature_extractor(inputs)\n",
        "    logits = clf(features)\n",
        "    baseline_model = Model(inputs=inputs, outputs=logits)\n",
        "    adam = Adam(lr=0.0001)\n",
        "    baseline_model.compile(optimizer=adam,\n",
        "              loss=['sparse_categorical_crossentropy'], metrics=['accuracy'])\n",
        "    return baseline_model\n",
        "\n",
        "# Set seed\n",
        "accs = []\n",
        "import random as python_random\n",
        "for i in range(10):\n",
        "    python_random.seed(i)\n",
        "    np.random.seed(i)\n",
        "    tf.random.set_seed(i)\n",
        "    baseline_model = baseline()\n",
        "    # Run training \n",
        "    baseline_model.fit(data_src_fft, label_src, batch_size=128, epochs=400, shuffle=True, verbose=False)\n",
        "    # Run evaluating\n",
        "    score, acc = baseline_model.evaluate(data_tgt_fft, label_tgt, batch_size=200)\n",
        "    print(\"Accuracy for the baseline model on target data is\", acc)\n",
        "    accs.append(acc)\n",
        "print(\"ten run mean\", np.mean(accs))"
      ],
      "execution_count": null,
      "outputs": [
        {
          "output_type": "stream",
          "text": [
            "/usr/local/lib/python3.7/dist-packages/tensorflow/python/keras/optimizer_v2/optimizer_v2.py:375: UserWarning: The `lr` argument is deprecated, use `learning_rate` instead.\n",
            "  \"The `lr` argument is deprecated, use `learning_rate` instead.\")\n"
          ],
          "name": "stderr"
        },
        {
          "output_type": "stream",
          "text": [
            "1/1 [==============================] - 0s 171ms/step - loss: 0.2753 - accuracy: 0.9050\n",
            "Accuracy for the baseline model on target data is 0.9049999713897705\n",
            "1/1 [==============================] - 0s 114ms/step - loss: 0.3429 - accuracy: 0.8900\n",
            "Accuracy for the baseline model on target data is 0.8899999856948853\n",
            "1/1 [==============================] - 0s 112ms/step - loss: 0.2147 - accuracy: 0.9100\n",
            "Accuracy for the baseline model on target data is 0.9100000262260437\n",
            "1/1 [==============================] - 0s 114ms/step - loss: 0.3670 - accuracy: 0.8300\n",
            "Accuracy for the baseline model on target data is 0.8299999833106995\n",
            "WARNING:tensorflow:5 out of the last 5 calls to <function Model.make_test_function.<locals>.test_function at 0x7fe06224b950> triggered tf.function retracing. Tracing is expensive and the excessive number of tracings could be due to (1) creating @tf.function repeatedly in a loop, (2) passing tensors with different shapes, (3) passing Python objects instead of tensors. For (1), please define your @tf.function outside of the loop. For (2), @tf.function has experimental_relax_shapes=True option that relaxes argument shapes that can avoid unnecessary retracing. For (3), please refer to https://www.tensorflow.org/guide/function#controlling_retracing and https://www.tensorflow.org/api_docs/python/tf/function for  more details.\n",
            "1/1 [==============================] - 0s 126ms/step - loss: 0.2573 - accuracy: 0.8800\n",
            "Accuracy for the baseline model on target data is 0.8799999952316284\n",
            "WARNING:tensorflow:6 out of the last 6 calls to <function Model.make_test_function.<locals>.test_function at 0x7fe06267f320> triggered tf.function retracing. Tracing is expensive and the excessive number of tracings could be due to (1) creating @tf.function repeatedly in a loop, (2) passing tensors with different shapes, (3) passing Python objects instead of tensors. For (1), please define your @tf.function outside of the loop. For (2), @tf.function has experimental_relax_shapes=True option that relaxes argument shapes that can avoid unnecessary retracing. For (3), please refer to https://www.tensorflow.org/guide/function#controlling_retracing and https://www.tensorflow.org/api_docs/python/tf/function for  more details.\n",
            "1/1 [==============================] - 0s 121ms/step - loss: 0.3998 - accuracy: 0.8350\n",
            "Accuracy for the baseline model on target data is 0.8349999785423279\n",
            "1/1 [==============================] - 0s 118ms/step - loss: 0.2126 - accuracy: 0.9200\n",
            "Accuracy for the baseline model on target data is 0.9200000166893005\n",
            "1/1 [==============================] - 0s 128ms/step - loss: 0.4810 - accuracy: 0.8300\n",
            "Accuracy for the baseline model on target data is 0.8299999833106995\n",
            "1/1 [==============================] - 0s 116ms/step - loss: 0.1980 - accuracy: 0.9350\n",
            "Accuracy for the baseline model on target data is 0.9350000023841858\n",
            "1/1 [==============================] - 0s 133ms/step - loss: 0.3323 - accuracy: 0.8850\n",
            "Accuracy for the baseline model on target data is 0.8849999904632568\n",
            "ten run mean 0.8819999933242798\n"
          ],
          "name": "stdout"
        }
      ]
    },
    {
      "cell_type": "markdown",
      "metadata": {
        "id": "FYCX7mOJ07a-"
      },
      "source": [
        "## Task: Domain Adversarial Training!\n",
        "Let's now add domain adversarial ability to the baseline model. First we need to define the gradient reverse layer, because it is a custom op. "
      ]
    },
    {
      "cell_type": "markdown",
      "metadata": {
        "id": "z1sLG_-M3KS2"
      },
      "source": [
        "### **TODO** Gradient Reverse Layer(GRL) Layer \n",
        "\n",
        "---\n",
        "\n",
        "\n",
        "Define a custom keras layer GradReverse which can change the normal gradient to our expected reserved ones.\n",
        "Check the [GRL](https://arxiv.org/pdf/1409.7495) paper whenever necessary.\n",
        "Since we are customizing the layer, we will need some backend ops to reverse the gradient. \n",
        "\n",
        "Hint: For example, you can use [this decorator](https://www.tensorflow.org/api_docs/python/tf/custom_gradient) to customize the gradient.\n",
        "\n"
      ]
    },
    {
      "cell_type": "code",
      "metadata": {
        "id": "4afxOlDH07a-"
      },
      "source": [
        "@tf.custom_gradient\n",
        "def grad_reverse(x):\n",
        "    y = tf.identity(x)\n",
        "    def custom_grad(dy):\n",
        "        return -dy\n",
        "    return y, custom_grad\n",
        "\n",
        "class GradReverse(tf.keras.layers.Layer):\n",
        "    def __init__(self):\n",
        "        super().__init__()\n",
        "\n",
        "    def call(self, x):\n",
        "        return grad_reverse(x)"
      ],
      "execution_count": null,
      "outputs": []
    },
    {
      "cell_type": "markdown",
      "metadata": {
        "id": "STjLntA207bA"
      },
      "source": [
        "#### We now provide you with a simple discriminator which you could use for the domain adversarial training. \n",
        "\n"
      ]
    },
    {
      "cell_type": "code",
      "metadata": {
        "id": "ggljJerw07bA"
      },
      "source": [
        "def discriminator(x):    \n",
        "    h = Dense(1024, activation='relu')(x)\n",
        "    h = Dense(1024, activation='relu')(h)\n",
        "    h = Dense(2, activation='softmax', name=\"dis\")(h)\n",
        "    return h\n"
      ],
      "execution_count": null,
      "outputs": []
    },
    {
      "cell_type": "markdown",
      "metadata": {
        "id": "Y0RJHPBB07bD"
      },
      "source": [
        "### **TODO** Training strategy\n",
        "Now it's time to add the discriminator to the network and see how it works. \n",
        "We provide you with some hints in the comments but feel free to write the code in your own ways as long as it is a correct alignment. \n"
      ]
    },
    {
      "cell_type": "code",
      "metadata": {
        "id": "iAxdCjcg07bD"
      },
      "source": [
        "def grl():\n",
        "    \"\"\" GRL strategy\n",
        "    returns: the classification branch, the discriminator branch\n",
        "    \"\"\"\n",
        "    input_dim = 512\n",
        "    \n",
        "    ### Define inputs\n",
        "    inputs = Input(shape=(input_dim, 1))\n",
        "    ### Get features\n",
        "    features = feature_extractor(inputs)\n",
        "    ### Get classification logits\n",
        "    logits = clf(features)\n",
        "    ### Define the classification branch model\n",
        "    clf_branch = Model(inputs=inputs, outputs=logits)\n",
        "    adam = Adam(lr=0.0001)   \n",
        "    clf_branch.compile(optimizer=adam,\n",
        "              loss={'clf': 'sparse_categorical_crossentropy'}, metrics=['accuracy'])\n",
        "    \n",
        "    ### Define the classification branch model    \n",
        "    features_rev = GradReverse()(features)\n",
        "    logits_da = discriminator(features_rev)\n",
        "\n",
        "    da_branch = Model(inputs=inputs, outputs=logits_da)\n",
        "    adam_da = Adam(lr=0.0001)   \n",
        "    da_branch.compile(optimizer=adam_da,\n",
        "              loss={'dis': 'sparse_categorical_crossentropy'}, metrics=['accuracy'])\n",
        "    return clf_branch, da_branch"
      ],
      "execution_count": null,
      "outputs": []
    },
    {
      "cell_type": "markdown",
      "metadata": {
        "id": "YIadJg6dbzVq"
      },
      "source": [
        "### **TODO** Make it run! \n",
        "Add the training code for the above model.\n"
      ]
    },
    {
      "cell_type": "code",
      "metadata": {
        "id": "VsSK-PISAVcs",
        "colab": {
          "base_uri": "https://localhost:8080/"
        },
        "outputId": "3ea6221b-b8f4-4f45-f0fc-57ca0bbb902f"
      },
      "source": [
        "### Some constants\n",
        "NUM_EPOCH = 400\n",
        "BATCH_SIZE = 128\n",
        "DATASET_SIZE = 200\n",
        "\n",
        "accs = []\n",
        "import random as python_random\n",
        "for i in range(10):\n",
        "    python_random.seed(i)\n",
        "    np.random.seed(i)\n",
        "    tf.random.set_seed(i)\n",
        "    clf_branch, da_branch = grl()\n",
        "    ### Iterate over \n",
        "    for i in range(NUM_EPOCH * (DATASET_SIZE // BATCH_SIZE)):\n",
        "        ### Randomly fetch training data\n",
        "        idx_src = np.random.choice(DATASET_SIZE, size=BATCH_SIZE, replace=False)\n",
        "        idx_tgt = np.random.choice(DATASET_SIZE, size=BATCH_SIZE, replace=False)\n",
        "        batch_src, batch_y = data_src_fft[idx_src], label_src[idx_src]\n",
        "        ### We don't use any label from target domain\n",
        "        batch_tgt = data_tgt_fft[idx_tgt] \n",
        "        ########## the training code for clf_branch ###################\n",
        "        clf_branch.train_on_batch(batch_src, batch_y)\n",
        "        ########## the training code for discriminator branch #########\n",
        "        dis_y = np.concatenate([np.zeros_like(batch_y), np.ones_like(batch_y)], axis=0)\n",
        "        da_branch.train_on_batch(np.concatenate([batch_src, batch_tgt], axis=0), dis_y)\n",
        "\n",
        "    ### Final results\n",
        "    score, acc = clf_branch.evaluate(data_tgt_fft, label_tgt, batch_size=200)\n",
        "    print(\"Final Accuracy\", acc)\n",
        "    accs.append(acc)\n",
        "print(\"ten run mean\", np.mean(accs))"
      ],
      "execution_count": null,
      "outputs": [
        {
          "output_type": "stream",
          "text": [
            "/usr/local/lib/python3.7/dist-packages/tensorflow/python/keras/optimizer_v2/optimizer_v2.py:375: UserWarning: The `lr` argument is deprecated, use `learning_rate` instead.\n",
            "  \"The `lr` argument is deprecated, use `learning_rate` instead.\")\n"
          ],
          "name": "stderr"
        },
        {
          "output_type": "stream",
          "text": [
            "1/1 [==============================] - 0s 121ms/step - loss: 0.1550 - accuracy: 0.9750\n",
            "Final Accuracy 0.9750000238418579\n",
            "1/1 [==============================] - 0s 121ms/step - loss: 0.1089 - accuracy: 0.9900\n",
            "Final Accuracy 0.9900000095367432\n",
            "1/1 [==============================] - 0s 113ms/step - loss: 0.0578 - accuracy: 0.9950\n",
            "Final Accuracy 0.9950000047683716\n",
            "1/1 [==============================] - 0s 123ms/step - loss: 0.0788 - accuracy: 0.9900\n",
            "Final Accuracy 0.9900000095367432\n",
            "1/1 [==============================] - 0s 118ms/step - loss: 0.0952 - accuracy: 0.9950\n",
            "Final Accuracy 0.9950000047683716\n",
            "1/1 [==============================] - 0s 122ms/step - loss: 0.1750 - accuracy: 0.9650\n",
            "Final Accuracy 0.9649999737739563\n",
            "1/1 [==============================] - 0s 113ms/step - loss: 0.0934 - accuracy: 0.9850\n",
            "Final Accuracy 0.9850000143051147\n",
            "1/1 [==============================] - 0s 137ms/step - loss: 0.0764 - accuracy: 0.9950\n",
            "Final Accuracy 0.9950000047683716\n",
            "1/1 [==============================] - 0s 115ms/step - loss: 0.1154 - accuracy: 0.9900\n",
            "Final Accuracy 0.9900000095367432\n",
            "1/1 [==============================] - 0s 123ms/step - loss: 0.1446 - accuracy: 0.9900\n",
            "Final Accuracy 0.9900000095367432\n",
            "ten run mean 0.9870000064373017\n"
          ],
          "name": "stdout"
        }
      ]
    },
    {
      "cell_type": "markdown",
      "metadata": {
        "id": "UPWlMqgiGYhW"
      },
      "source": [
        "## Adversarially aligned model perform better than source-only for the CWRU dataset!"
      ]
    },
    {
      "cell_type": "markdown",
      "metadata": {
        "id": "S-lJWWsTRtw7"
      },
      "source": [
        ""
      ]
    }
  ]
}